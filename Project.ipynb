import random 

with open("words.txt") as f:
    word = f.read().splitlines()

def hint(word,guess):
    length = len(word)
    for i in range(length):
        if guess[i]=='_':
            hintletter = word[i]
            return hintletter
            
word = random.choice(word) 
print("Guess the word. ") 
guesses =  ''
turns = 4

while turns > 0: 
    failed = 0
    for char in word: 
        if char in guesses: 
            print(char) 
        else: 
            print("_" ) 
            failed += 1

    if failed == 0: 
        print("You Win") 
        print("The word is: ", word) 
        break
        
    print("Enter ? for hint")
    guess = input("Pick a Letter: ")
    print("")
    guesses += guess

    if guess not in word: 
        turns -= 1
        print("Wrong")
        print("You have", + turns, 'more guesses') 
        if turns == 0: 
            print("You Lose")
